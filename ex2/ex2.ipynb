{
 "cells": [
  {
   "cell_type": "markdown",
   "metadata": {},
   "source": [
    "# Exercise 2\n",
    "### Constrained concave optimization problem"
   ]
  },
  {
   "cell_type": "code",
   "execution_count": 22,
   "metadata": {},
   "outputs": [],
   "source": [
    "\n",
    "def f0(x):\n",
    "    return x[0]*x[0] + x[1]*x[1]\n",
    "\n",
    "f2 = lambda x: x[0] + x[1] - 1\n",
    "f3 = lambda x: x[0]*x[0] + x[1]*x[1] - 1\n",
    "f4 = lambda x: 9*x[0]*x[0] +x[1]*x[1] - 9\n",
    "f5 = lambda x: x[0]*x[0] - x[1]\n",
    "f6 = lambda x: -x[0] + x[1]*x[1]\n",
    "\n",
    "fs = [f2, f3, f4, f5, f6]\n",
    "\n",
    "cons = (\n",
    "    {'type': 'ineq', 'fun': f2},\n",
    "    {'type': 'ineq', 'fun': f3},\n",
    "    {'type': 'ineq', 'fun': f4},\n",
    "    {'type': 'ineq', 'fun': f5},\n",
    "    {'type': 'ineq', 'fun': f6},\n",
    ")\n",
    "\n",
    "bnds = (\n",
    "    (0.5, None), (None, None)\n",
    ")"
   ]
  },
  {
   "cell_type": "markdown",
   "metadata": {},
   "source": [
    "### Propose a feasible and and unfeasible initial point"
   ]
  },
  {
   "cell_type": "code",
   "execution_count": 18,
   "metadata": {},
   "outputs": [
    {
     "name": "stdout",
     "output_type": "stream",
     "text": [
      "[-1, -1, -9, 0, 0]\n",
      "[1, 1, 1, 0, 0]\n"
     ]
    },
    {
     "data": {
      "text/plain": [
       "[None, None]"
      ]
     },
     "execution_count": 18,
     "metadata": {},
     "output_type": "execute_result"
    }
   ],
   "source": [
    "init = [[0,0], [1, 1]]\n",
    "[print([(f(x_0)) for f in fs]) for x_0 in init] # if all >= 0 then is feasible"
   ]
  },
  {
   "cell_type": "code",
   "execution_count": 23,
   "metadata": {},
   "outputs": [
    {
     "data": {
      "text/plain": [
       "[ message: Positive directional derivative for linesearch\n",
       "  success: False\n",
       "   status: 8\n",
       "      fun: 0.31254965127528844\n",
       "        x: [ 5.000e-01  2.500e-01]\n",
       "      nit: 13\n",
       "      jac: [ 1.000e+00  5.001e-01]\n",
       "     nfev: 52\n",
       "     njev: 9,\n",
       "  message: Optimization terminated successfully\n",
       "  success: True\n",
       "   status: 0\n",
       "      fun: 2.0\n",
       "        x: [ 1.000e+00  1.000e+00]\n",
       "      nit: 1\n",
       "      jac: [ 2.000e+00  2.000e+00]\n",
       "     nfev: 3\n",
       "     njev: 1]"
      ]
     },
     "execution_count": 23,
     "metadata": {},
     "output_type": "execute_result"
    }
   ],
   "source": [
    "import scipy.optimize as opt\n",
    "\n",
    "#opt.minimize(f0,[1,1], method='SLSQP', constraints=cons, bounds=bnds)\n",
    "sols = [opt.minimize(f0, x_0, method='SLSQP',bounds=bnds, constraints=cons) for x_0 in init]\n",
    "sols"
   ]
  },
  {
   "cell_type": "markdown",
   "metadata": {},
   "source": [
    "## Repeat giving the jacobian"
   ]
  },
  {
   "cell_type": "code",
   "execution_count": 21,
   "metadata": {},
   "outputs": [
    {
     "data": {
      "text/plain": [
       "[ message: Positive directional derivative for linesearch\n",
       "  success: False\n",
       "   status: 8\n",
       "      fun: 0.25\n",
       "        x: [ 5.000e-01  0.000e+00]\n",
       "      nit: 5\n",
       "      jac: [ 1.000e+00  0.000e+00]\n",
       "     nfev: 1\n",
       "     njev: 1,\n",
       "  message: Optimization terminated successfully\n",
       "  success: True\n",
       "   status: 0\n",
       "      fun: 2.0\n",
       "        x: [ 1.000e+00  1.000e+00]\n",
       "      nit: 1\n",
       "      jac: [ 2.000e+00  2.000e+00]\n",
       "     nfev: 1\n",
       "     njev: 1]"
      ]
     },
     "execution_count": 21,
     "metadata": {},
     "output_type": "execute_result"
    }
   ],
   "source": [
    "def jac(x):\n",
    "    return [2*x[0], 2*x[1]]\n",
    "jacsols = [opt.minimize(f0, x_0, method='SLSQP',bounds=bnds, constraints=cons, jac=jac) for x_0 in init]\n",
    "jacsols"
   ]
  }
 ],
 "metadata": {
  "kernelspec": {
   "display_name": "conv",
   "language": "python",
   "name": "python3"
  },
  "language_info": {
   "codemirror_mode": {
    "name": "ipython",
    "version": 3
   },
   "file_extension": ".py",
   "mimetype": "text/x-python",
   "name": "python",
   "nbconvert_exporter": "python",
   "pygments_lexer": "ipython3",
   "version": "3.10.12"
  }
 },
 "nbformat": 4,
 "nbformat_minor": 2
}
