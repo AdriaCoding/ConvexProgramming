{
 "cells": [
  {
   "cell_type": "markdown",
   "metadata": {},
   "source": [
    "# Exercise 8\n",
    "### Network Problem 2"
   ]
  },
  {
   "cell_type": "markdown",
   "metadata": {},
   "source": [
    "## Simplification of the problem, without using Matrices"
   ]
  },
  {
   "cell_type": "code",
   "execution_count": 1,
   "metadata": {},
   "outputs": [
    {
     "name": "stderr",
     "output_type": "stream",
     "text": [
      "/home/blas/Documents/MIRI/TOML/ConvexProgramming/conv/lib/python3.10/site-packages/cvxpy/reductions/solvers/solving_chain.py:336: FutureWarning: \n",
      "    Your problem is being solved with the ECOS solver by default. Starting in \n",
      "    CVXPY 1.5.0, Clarabel will be used as the default solver instead. To continue \n",
      "    using ECOS, specify the ECOS solver explicitly using the ``solver=cp.ECOS`` \n",
      "    argument to the ``problem.solve`` method.\n",
      "    \n",
      "  warnings.warn(ECOS_DEPRECATION_MSG, FutureWarning)\n"
     ]
    },
    {
     "data": {
      "text/plain": [
       "-3.988984047216252"
      ]
     },
     "execution_count": 1,
     "metadata": {},
     "output_type": "execute_result"
    }
   ],
   "source": [
    "import cvxpy as cp\n",
    "x = cp.Variable(3)\n",
    "T = cp.Variable(3) #[T_12, T_23, T_32]\n",
    "cons = [x[0] + x[1] <= T[0],\n",
    "             x[0] <= T[1],\n",
    "             x[2] <= T[2],\n",
    "             T[0] + T[1] + T[2] <= 1]\n",
    "prob = cp.Problem(cp.Maximize(cp.log(x[0]) + cp.log(x[1]) + cp.log(x[2])), constraints=cons)\n",
    "prob.solve()"
   ]
  },
  {
   "cell_type": "code",
   "execution_count": 3,
   "metadata": {},
   "outputs": [
    {
     "name": "stdout",
     "output_type": "stream",
     "text": [
      "[x1, x2, x3] value: [0.16666665 0.33333335 0.33333335]\n",
      "[T_12, T_23, T_32] value: [0.5        0.16666665 0.33333335]\n",
      "Dual info [2.9999997481224927, 2.9999997480909575, 2.999999748106721, 2.999999748075187]\n"
     ]
    }
   ],
   "source": [
    "print(\"[x1, x2, x3] value:\", x.value)\n",
    "print(\"[T_12, T_23, T_32] value:\", T.value)\n",
    "print(\"Dual info\", [c.dual_value for c in cons])"
   ]
  }
 ],
 "metadata": {
  "kernelspec": {
   "display_name": "conv",
   "language": "python",
   "name": "python3"
  },
  "language_info": {
   "codemirror_mode": {
    "name": "ipython",
    "version": 3
   },
   "file_extension": ".py",
   "mimetype": "text/x-python",
   "name": "python",
   "nbconvert_exporter": "python",
   "pygments_lexer": "ipython3",
   "version": "3.10.12"
  }
 },
 "nbformat": 4,
 "nbformat_minor": 2
}
