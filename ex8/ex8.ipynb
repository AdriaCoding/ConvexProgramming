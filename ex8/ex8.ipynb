{
 "cells": [
  {
   "cell_type": "markdown",
   "metadata": {},
   "source": [
    "# Exercise 8\n",
    "### Network Problem 2"
   ]
  },
  {
   "cell_type": "markdown",
   "metadata": {},
   "source": [
    "## Simplification of the problem, without using Matrices"
   ]
  },
  {
   "cell_type": "code",
   "execution_count": 1,
   "metadata": {},
   "outputs": [
    {
     "name": "stderr",
     "output_type": "stream",
     "text": [
      "/home/blas/Documents/MIRI/TOML/ConvexProgramming/conv/lib/python3.10/site-packages/cvxpy/reductions/solvers/solving_chain.py:336: FutureWarning: \n",
      "    Your problem is being solved with the ECOS solver by default. Starting in \n",
      "    CVXPY 1.5.0, Clarabel will be used as the default solver instead. To continue \n",
      "    using ECOS, specify the ECOS solver explicitly using the ``solver=cp.ECOS`` \n",
      "    argument to the ``problem.solve`` method.\n",
      "    \n",
      "  warnings.warn(ECOS_DEPRECATION_MSG, FutureWarning)\n"
     ]
    },
    {
     "data": {
      "text/plain": [
       "-3.988984047216252"
      ]
     },
     "execution_count": 1,
     "metadata": {},
     "output_type": "execute_result"
    }
   ],
   "source": [
    "import cvxpy as cp\n",
    "x = cp.Variable(3)\n",
    "T = cp.Variable(3) #[T_12, T_23, T_32]\n",
    "cons = [x[0] + x[1] <= T[0],\n",
    "             x[0] <= T[1],\n",
    "             x[2] <= T[2],\n",
    "             T[0] + T[1] + T[2] <= 1]\n",
    "prob = cp.Problem(cp.Maximize(cp.log(x[0]) + cp.log(x[1]) + cp.log(x[2])), constraints=cons)\n",
    "prob.solve()"
   ]
  },
  {
   "cell_type": "code",
   "execution_count": 2,
   "metadata": {},
   "outputs": [
    {
     "name": "stdout",
     "output_type": "stream",
     "text": [
      "[x1, x2, x3] value: [0.16666665 0.33333335 0.33333335]\n",
      "[T_12, T_23, T_32] value: [0.5        0.16666665 0.33333335]\n",
      "Dual info [2.9999997481224927, 2.9999997480909575, 2.999999748106721, 2.999999748075187]\n"
     ]
    }
   ],
   "source": [
    "print(\"[x1, x2, x3] value:\", x.value)\n",
    "print(\"[T_12, T_23, T_32] value:\", T.value)\n",
    "print(\"Dual info\", [c.dual_value for c in cons])"
   ]
  },
  {
   "cell_type": "code",
   "execution_count": 22,
   "metadata": {},
   "outputs": [
    {
     "name": "stdout",
     "output_type": "stream",
     "text": [
      "\\left[\\begin{matrix}\\lambda_{1} + \\lambda_{2} - \\frac{1}{x_{1}}\\\\\\lambda_{1} - \\frac{1}{x_{2}}\\\\\\lambda_{3} - \\frac{1}{x_{3}}\\\\- \\lambda_{1} + \\lambda_{4}\\\\- \\lambda_{2} + \\lambda_{4}\\\\- \\lambda_{3} + \\lambda_{4}\\end{matrix}\\right]\n"
     ]
    },
    {
     "data": {
      "text/latex": [
       "$\\displaystyle \\left[\\begin{matrix}\\lambda_{1} + \\lambda_{2} - \\frac{1}{x_{1}}\\\\\\lambda_{1} - \\frac{1}{x_{2}}\\\\\\lambda_{3} - \\frac{1}{x_{3}}\\\\- \\lambda_{1} + \\lambda_{4}\\\\- \\lambda_{2} + \\lambda_{4}\\\\- \\lambda_{3} + \\lambda_{4}\\end{matrix}\\right]$"
      ],
      "text/plain": [
       "Matrix([\n",
       "[\\lambda_1 + \\lambda_2 - 1/x_1],\n",
       "[            \\lambda_1 - 1/x_2],\n",
       "[            \\lambda_3 - 1/x_3],\n",
       "[       -\\lambda_1 + \\lambda_4],\n",
       "[       -\\lambda_2 + \\lambda_4],\n",
       "[       -\\lambda_3 + \\lambda_4]])"
      ]
     },
     "execution_count": 22,
     "metadata": {},
     "output_type": "execute_result"
    }
   ],
   "source": [
    "from sympy import *\n",
    "x1, x2, x3, T1, T2, T3 = symbols('x_1, x_2, x_3, T_{12}, T_{23}, T_{32}')\n",
    "l1, l2, l3, l4 = symbols('\\lambda_1, \\lambda_2, \\lambda_3, \\lambda_4')\n",
    "f0 = -log(x1) - log(x2) - log(x3)\n",
    "h1 = x1 + x2 - T1\n",
    "h2 = x1 - T2\n",
    "h3 = x3 - T3\n",
    "h4 = T1 + T2 + T3 -1\n",
    "L = f0 + l1*h1 + l2 * h2 +  l3*h3 +  l4* h4 \n",
    "JL = Matrix([simplify(diff(L, xi)) for xi in [x1, x2, x3, T1, T2, T3]])\n",
    "g = simplify(L.evalf(subs={x1: -1/(l1+l2), x2: -1/l1, x3:-1/l3}))\n",
    "print(latex(JL))\n",
    "JL"
   ]
  }
 ],
 "metadata": {
  "kernelspec": {
   "display_name": "conv",
   "language": "python",
   "name": "python3"
  },
  "language_info": {
   "codemirror_mode": {
    "name": "ipython",
    "version": 3
   },
   "file_extension": ".py",
   "mimetype": "text/x-python",
   "name": "python",
   "nbconvert_exporter": "python",
   "pygments_lexer": "ipython3",
   "version": "3.10.12"
  }
 },
 "nbformat": 4,
 "nbformat_minor": 2
}
