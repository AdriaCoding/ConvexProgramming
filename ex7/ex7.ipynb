{
 "cells": [
  {
   "cell_type": "markdown",
   "metadata": {},
   "source": [
    "# Exercise 7\n",
    "### Network Problem"
   ]
  },
  {
   "cell_type": "code",
   "execution_count": 21,
   "metadata": {},
   "outputs": [
    {
     "name": "stdout",
     "output_type": "stream",
     "text": [
      "[[1.00 0.00 1.00]\n",
      " [1.00 1.00 0.00]\n",
      " ...\n",
      " [0.00 0.00 0.00]\n",
      " [0.00 0.00 1.00]] @ var180\n"
     ]
    }
   ],
   "source": [
    "import cvxpy as cp \n",
    "\n",
    "A = [[1, 1, 0, 0, 0],\n",
    "     [0, 1, 0, 0, 0],\n",
    "     [1, 0, 0, 0, 1]]\n",
    "C = [1, 2, 1, 2, 1]\n",
    "x = cp.Variable(3)\n",
    "print(B@x)\n",
    "\n"
   ]
  },
  {
   "cell_type": "code",
   "execution_count": 22,
   "metadata": {},
   "outputs": [
    {
     "name": "stderr",
     "output_type": "stream",
     "text": [
      "/home/blas/Documents/MIRI/TOML/ConvexProgramming/conv/lib/python3.10/site-packages/cvxpy/reductions/solvers/solving_chain.py:336: FutureWarning: \n",
      "    Your problem is being solved with the ECOS solver by default. Starting in \n",
      "    CVXPY 1.5.0, Clarabel will be used as the default solver instead. To continue \n",
      "    using ECOS, specify the ECOS solver explicitly using the ``solver=cp.ECOS`` \n",
      "    argument to the ``problem.solve`` method.\n",
      "    \n",
      "  warnings.warn(ECOS_DEPRECATION_MSG, FutureWarning)\n"
     ]
    },
    {
     "data": {
      "text/plain": [
       "-0.95477125606744"
      ]
     },
     "execution_count": 22,
     "metadata": {},
     "output_type": "execute_result"
    }
   ],
   "source": [
    "\n",
    "constraints = [A@x <= C, x >= 0]\n",
    "prob = cp.Problem(cp.Maximize(cp.log(x[0]) + cp.log(x[1]) + cp.log(x[2])), constraints=constraints)\n",
    "prob.solve()"
   ]
  },
  {
   "cell_type": "code",
   "execution_count": 26,
   "metadata": {},
   "outputs": [
    {
     "name": "stdout",
     "output_type": "stream",
     "text": [
      "[x1, x2, x3] value: [0.42264971 1.57735029 0.57735029]\n",
      "Network Capacity:  [1.         2.         0.         0.         0.57735029]\n",
      "Dual info [array([1.73205063e+00, 6.33974601e-01, 1.41565492e-09, 7.35642950e-10,\n",
      "       3.25763413e-09]), array([3.37549243e-09, 9.16253816e-10, 2.39939889e-09])]\n"
     ]
    }
   ],
   "source": [
    "print(\"[x1, x2, x3] value:\", x.value)\n",
    "c = A@x\n",
    "print(\"Network Capacity: \", c.value)\n",
    "print(\"Dual info\", [c.dual_value for c in constraints])"
   ]
  },
  {
   "cell_type": "markdown",
   "metadata": {},
   "source": [
    "## Simplification of the problem, without using Matrices"
   ]
  },
  {
   "cell_type": "code",
   "execution_count": 41,
   "metadata": {},
   "outputs": [
    {
     "name": "stderr",
     "output_type": "stream",
     "text": [
      "/home/blas/Documents/MIRI/TOML/ConvexProgramming/conv/lib/python3.10/site-packages/cvxpy/reductions/solvers/solving_chain.py:336: FutureWarning: \n",
      "    Your problem is being solved with the ECOS solver by default. Starting in \n",
      "    CVXPY 1.5.0, Clarabel will be used as the default solver instead. To continue \n",
      "    using ECOS, specify the ECOS solver explicitly using the ``solver=cp.ECOS`` \n",
      "    argument to the ``problem.solve`` method.\n",
      "    \n",
      "  warnings.warn(ECOS_DEPRECATION_MSG, FutureWarning)\n"
     ]
    },
    {
     "data": {
      "text/plain": [
       "-0.9547712589294085"
      ]
     },
     "execution_count": 41,
     "metadata": {},
     "output_type": "execute_result"
    }
   ],
   "source": [
    "y = cp.Variable(3)\n",
    "simp_cons = [y[0] + y[2] <= 1,\n",
    "             y[0] + y[1] <= 2,\n",
    "             y[2] <= 1, y>= 0]\n",
    "prob = cp.Problem(cp.Maximize(cp.log(y[0]) + cp.log(y[1]) + cp.log(y[2])), constraints=simp_cons)\n",
    "prob.solve()"
   ]
  },
  {
   "cell_type": "code",
   "execution_count": 42,
   "metadata": {},
   "outputs": [
    {
     "name": "stdout",
     "output_type": "stream",
     "text": [
      "[x1, x2, x3] value: [0.42264894 1.57735105 0.57735105]\n",
      "Dual info [1.7320483134403175, 0.6339745314617544, 6.437850296384749e-09, array([6.54467932e-09, 1.77555380e-09, 4.77958912e-09])]\n"
     ]
    }
   ],
   "source": [
    "print(\"[x1, x2, x3] value:\", y.value)\n",
    "print(\"Dual info\", [c.dual_value for c in simp_cons])"
   ]
  }
 ],
 "metadata": {
  "kernelspec": {
   "display_name": "conv",
   "language": "python",
   "name": "python3"
  },
  "language_info": {
   "codemirror_mode": {
    "name": "ipython",
    "version": 3
   },
   "file_extension": ".py",
   "mimetype": "text/x-python",
   "name": "python",
   "nbconvert_exporter": "python",
   "pygments_lexer": "ipython3",
   "version": "3.10.12"
  }
 },
 "nbformat": 4,
 "nbformat_minor": 2
}
