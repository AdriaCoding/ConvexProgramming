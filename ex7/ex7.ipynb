{
 "cells": [
  {
   "cell_type": "markdown",
   "metadata": {},
   "source": [
    "# Exercise 7\n",
    "### Network Problem"
   ]
  },
  {
   "cell_type": "code",
   "execution_count": 1,
   "metadata": {},
   "outputs": [
    {
     "name": "stderr",
     "output_type": "stream",
     "text": [
      "/home/blas/Documents/MIRI/TOML/ConvexProgramming/conv/lib/python3.10/site-packages/cvxpy/reductions/solvers/solving_chain.py:336: FutureWarning: \n",
      "    Your problem is being solved with the ECOS solver by default. Starting in \n",
      "    CVXPY 1.5.0, Clarabel will be used as the default solver instead. To continue \n",
      "    using ECOS, specify the ECOS solver explicitly using the ``solver=cp.ECOS`` \n",
      "    argument to the ``problem.solve`` method.\n",
      "    \n",
      "  warnings.warn(ECOS_DEPRECATION_MSG, FutureWarning)\n"
     ]
    },
    {
     "data": {
      "text/plain": [
       "-0.95477125606744"
      ]
     },
     "execution_count": 1,
     "metadata": {},
     "output_type": "execute_result"
    }
   ],
   "source": [
    "import cvxpy as cp \n",
    "\n",
    "A = [[1, 1, 0, 0, 0],\n",
    "     [0, 1, 0, 0, 0],\n",
    "     [1, 0, 0, 0, 1]]\n",
    "C = [1, 2, 1, 2, 1]\n",
    "x = cp.Variable(3)\n",
    "constraints = [A@x <= C, x >= 0]\n",
    "prob = cp.Problem(cp.Maximize(cp.log(x[0]) + cp.log(x[1]) + cp.log(x[2])), constraints=constraints)\n",
    "prob.solve()"
   ]
  },
  {
   "cell_type": "code",
   "execution_count": 26,
   "metadata": {},
   "outputs": [
    {
     "name": "stdout",
     "output_type": "stream",
     "text": [
      "[x1, x2, x3] value: [0.42264971 1.57735029 0.57735029]\n",
      "Network Capacity:  [1.         2.         0.         0.         0.57735029]\n",
      "Dual info [array([1.73205063e+00, 6.33974601e-01, 1.41565492e-09, 7.35642950e-10,\n",
      "       3.25763413e-09]), array([3.37549243e-09, 9.16253816e-10, 2.39939889e-09])]\n"
     ]
    }
   ],
   "source": [
    "print(\"[x1, x2, x3] value:\", x.value)\n",
    "c = A@x\n",
    "print(\"Network Capacity: \", c.value)\n",
    "print(\"Dual info\", [c.dual_value for c in constraints])"
   ]
  },
  {
   "cell_type": "markdown",
   "metadata": {},
   "source": [
    "## Simplification of the problem, without using Matrices"
   ]
  },
  {
   "cell_type": "code",
   "execution_count": 41,
   "metadata": {},
   "outputs": [
    {
     "name": "stderr",
     "output_type": "stream",
     "text": [
      "/home/blas/Documents/MIRI/TOML/ConvexProgramming/conv/lib/python3.10/site-packages/cvxpy/reductions/solvers/solving_chain.py:336: FutureWarning: \n",
      "    Your problem is being solved with the ECOS solver by default. Starting in \n",
      "    CVXPY 1.5.0, Clarabel will be used as the default solver instead. To continue \n",
      "    using ECOS, specify the ECOS solver explicitly using the ``solver=cp.ECOS`` \n",
      "    argument to the ``problem.solve`` method.\n",
      "    \n",
      "  warnings.warn(ECOS_DEPRECATION_MSG, FutureWarning)\n"
     ]
    },
    {
     "data": {
      "text/plain": [
       "-0.9547712589294085"
      ]
     },
     "execution_count": 41,
     "metadata": {},
     "output_type": "execute_result"
    }
   ],
   "source": [
    "y = cp.Variable(3)\n",
    "simp_cons = [y[0] + y[2] <= 1,\n",
    "             y[0] + y[1] <= 2,\n",
    "             y[2] <= 1, y>= 0]\n",
    "prob = cp.Problem(cp.Maximize(cp.log(y[0]) + cp.log(y[1]) + cp.log(y[2])), constraints=simp_cons)\n",
    "prob.solve()"
   ]
  },
  {
   "cell_type": "code",
   "execution_count": 42,
   "metadata": {},
   "outputs": [
    {
     "name": "stdout",
     "output_type": "stream",
     "text": [
      "[x1, x2, x3] value: [0.42264894 1.57735105 0.57735105]\n",
      "Dual info [1.7320483134403175, 0.6339745314617544, 6.437850296384749e-09, array([6.54467932e-09, 1.77555380e-09, 4.77958912e-09])]\n"
     ]
    }
   ],
   "source": [
    "print(\"[x1, x2, x3] value:\", y.value)\n",
    "print(\"Dual info\", [c.dual_value for c in simp_cons])"
   ]
  },
  {
   "cell_type": "code",
   "execution_count": 10,
   "metadata": {},
   "outputs": [
    {
     "name": "stdout",
     "output_type": "stream",
     "text": [
      "\\lambda_{1} \\left(x_{1} + x_{3} - 1\\right) + \\lambda_{2} \\left(x_{2} + x_{3} - 2\\right) - \\lambda_{3} - 2 \\lambda_{4} + \\lambda_{5} \\left(x_{1} - 1\\right) - \\lambda_{6} x_{1} - \\lambda_{7} x_{2} - \\lambda_{8} x_{3} - \\log{\\left(x_{1} \\right)} - \\log{\\left(x_{2} \\right)} - \\log{\\left(x_{3} \\right)}\n"
     ]
    },
    {
     "data": {
      "text/latex": [
       "$\\displaystyle \\left[\\begin{matrix}\\lambda_{1} + \\lambda_{5} - \\lambda_{6} - \\frac{1}{x_{1}}\\\\\\lambda_{2} - \\lambda_{7} - \\frac{1}{x_{2}}\\\\\\lambda_{1} + \\lambda_{2} - \\lambda_{8} - \\frac{1}{x_{3}}\\end{matrix}\\right]$"
      ],
      "text/plain": [
       "Matrix([\n",
       "[\\lambda_1 + \\lambda_5 - \\lambda_6 - 1/x_1],\n",
       "[            \\lambda_2 - \\lambda_7 - 1/x_2],\n",
       "[\\lambda_1 + \\lambda_2 - \\lambda_8 - 1/x_3]])"
      ]
     },
     "execution_count": 10,
     "metadata": {},
     "output_type": "execute_result"
    }
   ],
   "source": [
    "from sympy import *\n",
    "x1, x2, x3 = symbols('x_1, x_2, x_3')\n",
    "l1, l2, l3, l4, l5, l6, l7, l8 = symbols('\\lambda_1, \\lambda_2, \\lambda_3, \\lambda_4, \\lambda_5, \\lambda_6, \\lambda_7, \\lambda_8')\n",
    "f0 = -log(x1) - log(x2) - log(x3)\n",
    "h1 = x1 + x3 - 1\n",
    "h2 = x2 + x3 -2\n",
    "h3 = -1\n",
    "h4 = -2\n",
    "h5 = x1 -1\n",
    "h6 = -x1\n",
    "h7 = -x2\n",
    "h8 = -x3\n",
    "L = f0 + l1*h1 + l2 * h2 +  l3*h3 +  l4* h4 + l5*h5 + l6*h6 +l7*h7 + l8*h8\n",
    "JL = Matrix([simplify(diff(L, xi)) for xi in [x1, x2, x3]])\n",
    "#g = simplify(L.evalf(subs={x1: -1/(l1+l2), x2: -1/l1, x3:-1/l3}))\n",
    "print(latex(L))\n",
    "JL"
   ]
  },
  {
   "cell_type": "code",
   "execution_count": null,
   "metadata": {},
   "outputs": [
    {
     "name": "stdout",
     "output_type": "stream",
     "text": [
      "\\left[\\begin{matrix}\\lambda_{1} + \\lambda_{5} - \\lambda_{6} - \\frac{1}{x_{1}}\\\\\\lambda_{2} - \\lambda_{7} - \\frac{1}{x_{2}}\\\\\\lambda_{1} + \\lambda_{2} - \\lambda_{8} - \\frac{1}{x_{3}}\\end{matrix}\\right]\n"
     ]
    },
    {
     "data": {
      "text/latex": [
       "$\\displaystyle \\left[\\begin{matrix}\\lambda_{1} + \\lambda_{5} - \\lambda_{6} - \\frac{1}{x_{1}}\\\\\\lambda_{2} - \\lambda_{7} - \\frac{1}{x_{2}}\\\\\\lambda_{1} + \\lambda_{2} - \\lambda_{8} - \\frac{1}{x_{3}}\\end{matrix}\\right]$"
      ],
      "text/plain": [
       "Matrix([\n",
       "[\\lambda_1 + \\lambda_5 - \\lambda_6 - 1/x_1],\n",
       "[            \\lambda_2 - \\lambda_7 - 1/x_2],\n",
       "[\\lambda_1 + \\lambda_2 - \\lambda_8 - 1/x_3]])"
      ]
     },
     "execution_count": 11,
     "metadata": {},
     "output_type": "execute_result"
    }
   ],
   "source": [
    "from sympy import *\n",
    "x1, x2, x3 = symbols('x_1, x_2, x_3')\n",
    "l1, l2, l3, l4, l5, l6, l7, l8 = symbols('\\lambda_1, \\lambda_2, \\lambda_3, \\lambda_4, \\lambda_5, \\lambda_6, \\lambda_7, \\lambda_8')\n",
    "f0 = -log(x1) - log(x2) - log(x3)\n",
    "h1 = x1 + x3 - 1\n",
    "h2 = x2 + x3 -2\n",
    "h5 = x1 -1\n",
    "h6 = -x1\n",
    "h7 = -x2\n",
    "h8 = -x3\n",
    "L = f0 + l1*h1 + l2 * h2 + l5*h5 + l6*h6 +l7*h7 + l8*h8\n",
    "JL = Matrix([simplify(diff(L, xi)) for xi in [x1, x2, x3]])\n",
    "g = simplify(L.evalf(subs={x1: -1/(l1+l2), x2: -1/l1, x3:-1/l3}))\n",
    "print(latex(JL))\n",
    "g"
   ]
  }
 ],
 "metadata": {
  "kernelspec": {
   "display_name": "conv",
   "language": "python",
   "name": "python3"
  },
  "language_info": {
   "codemirror_mode": {
    "name": "ipython",
    "version": 3
   },
   "file_extension": ".py",
   "mimetype": "text/x-python",
   "name": "python",
   "nbconvert_exporter": "python",
   "pygments_lexer": "ipython3",
   "version": "3.10.12"
  }
 },
 "nbformat": 4,
 "nbformat_minor": 2
}
