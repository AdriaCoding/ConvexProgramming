{
 "cells": [
  {
   "cell_type": "markdown",
   "metadata": {},
   "source": [
    "# Exercise 3\n",
    "### A convex optimization problem."
   ]
  },
  {
   "cell_type": "code",
   "execution_count": 4,
   "metadata": {},
   "outputs": [],
   "source": [
    "def f0(x):\n",
    "    return x[0]*x[0] + x[1]*x[1]\n",
    "\n",
    "f1 = lambda x: -x[0]*x[0] - x[0]*x[1] - x[1]*x[1] + 3     \n",
    "f2 = lambda x: 3*x[0] + 2*x[1] - 3     \n",
    "\n",
    "fs = [f1, f2]\n",
    "\n",
    "cons = (\n",
    "    {'type': 'ineq', 'fun': f1},\n",
    "    {'type': 'ineq', 'fun': f2},\n",
    ")"
   ]
  },
  {
   "cell_type": "markdown",
   "metadata": {},
   "source": [
    "## Solve it using scypy\n",
    "Don't forget to check the convergence (whatever that means)"
   ]
  },
  {
   "cell_type": "code",
   "execution_count": 22,
   "metadata": {},
   "outputs": [
    {
     "name": "stdout",
     "output_type": "stream",
     "text": [
      "[0.6923076923076928, 0.6923076923076908, 0.6923081546863251, 0.6923076923643912, 0.6923076923643744]\n",
      "[3, 4, 4, 4, 4]\n",
      "[10, 12, 13, 15, 15]\n",
      "[0.69230769 0.46153846]\n"
     ]
    }
   ],
   "source": [
    "import scipy.optimize as opt\n",
    "init = [[0,0], [1,1], [30, -30], [-300, 300], [-30000, 30000]]\n",
    "sols = [opt.minimize(f0, x_0, method='SLSQP', constraints=cons) for x_0 in init]\n",
    "print([s.fun for s in sols])\n",
    "print([s.nit for s in sols])\n",
    "print([s.nfev for s in sols])\n",
    "print(sols[0].x)"
   ]
  },
  {
   "cell_type": "markdown",
   "metadata": {},
   "source": [
    "## Solution with CVX toolbox"
   ]
  },
  {
   "cell_type": "code",
   "execution_count": 43,
   "metadata": {},
   "outputs": [],
   "source": [
    "import numpy as np\n",
    "\n",
    "np.random.randn(2,2)\n",
    "Q = [[1, .5], [.5, 1]]"
   ]
  },
  {
   "cell_type": "code",
   "execution_count": 65,
   "metadata": {},
   "outputs": [
    {
     "data": {
      "text/plain": [
       "0.6923076926895174"
      ]
     },
     "execution_count": 65,
     "metadata": {},
     "output_type": "execute_result"
    }
   ],
   "source": [
    "import cvxpy as cp \n",
    "import numpy as np\n",
    "\n",
    "x = cp.Variable(2)\n",
    "constraints = [cp.quad_form(x, Q) <= 3,\n",
    "               3*x[0] + 2*x[1] >= 3]\n",
    "prob = cp.Problem(cp.Minimize(x[0]**2 + x[1]**2), constraints=constraints)\n",
    "prob.solve()"
   ]
  },
  {
   "cell_type": "markdown",
   "metadata": {},
   "source": [
    "## Get info from the dual problem"
   ]
  },
  {
   "cell_type": "code",
   "execution_count": 77,
   "metadata": {},
   "outputs": [
    {
     "name": "stdout",
     "output_type": "stream",
     "text": [
      "optimal constraint 1 dual variable [7.23394671e-10]\n",
      "optimal constraint 2 dual variable 0.461550969108317\n",
      "[x1, x2] value: [0.69231361 0.46152958]\n"
     ]
    }
   ],
   "source": [
    "print(\"optimal constraint 1 dual variable\", constraints[0].dual_value)\n",
    "print(\"optimal constraint 2 dual variable\", constraints[1].dual_value)\n",
    "print(\"[x1, x2] value:\", x.value)"
   ]
  }
 ],
 "metadata": {
  "kernelspec": {
   "display_name": "conv",
   "language": "python",
   "name": "python3"
  },
  "language_info": {
   "codemirror_mode": {
    "name": "ipython",
    "version": 3
   },
   "file_extension": ".py",
   "mimetype": "text/x-python",
   "name": "python",
   "nbconvert_exporter": "python",
   "pygments_lexer": "ipython3",
   "version": "3.10.12"
  }
 },
 "nbformat": 4,
 "nbformat_minor": 2
}
