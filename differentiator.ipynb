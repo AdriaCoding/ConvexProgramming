{
 "cells": [
  {
   "cell_type": "code",
   "execution_count": 129,
   "metadata": {},
   "outputs": [
    {
     "name": "stdout",
     "output_type": "stream",
     "text": [
      "\\left[\\begin{matrix}\\left(4 x_{1}^{2} + 4 x_{1} y_{2} + 8 x_{1} + 2 y_{2}^{2} + 6 y_{2} + 1\\right) e^{x_{1}}\\\\\\left(4 x_{1} + 4 y_{2} + 2\\right) e^{x_{1}}\\end{matrix}\\right]\n"
     ]
    },
    {
     "data": {
      "text/latex": [
       "$\\displaystyle \\left[\\begin{matrix}\\left(4 x_{1}^{2} + 4 x_{1} y_{2} + 8 x_{1} + 2 y_{2}^{2} + 6 y_{2} + 1\\right) e^{x_{1}}\\\\\\left(4 x_{1} + 4 y_{2} + 2\\right) e^{x_{1}}\\end{matrix}\\right]$"
      ],
      "text/plain": [
       "⎡⎛    2                        2           ⎞  x₁⎤\n",
       "⎢⎝4⋅x₁  + 4⋅x₁⋅y₂ + 8⋅x₁ + 2⋅y₂  + 6⋅y₂ + 1⎠⋅ℯ  ⎥\n",
       "⎢                                               ⎥\n",
       "⎢                                x₁             ⎥\n",
       "⎣             (4⋅x₁ + 4⋅y₂ + 2)⋅ℯ               ⎦"
      ]
     },
     "execution_count": 129,
     "metadata": {},
     "output_type": "execute_result"
    }
   ],
   "source": [
    "from sympy import *\n",
    "\n",
    "x1, x2 = symbols('x1 y2')\n",
    "x = [x1, x2]\n",
    "xv = Matrix(x)\n",
    "init_printing(use_latex=true)\n",
    "f0 = exp(x1)*(4 * x1*x1 + 2 * x2*x2 + 4 * x1 * x2 + 2 * x2 + 1)\n",
    "J = Matrix([simplify(diff(f0, xi)) for xi in x])\n",
    "print(latex(J))\n",
    "J"
   ]
  },
  {
   "cell_type": "code",
   "execution_count": 28,
   "metadata": {},
   "outputs": [
    {
     "name": "stdout",
     "output_type": "stream",
     "text": [
      "\\left[\\begin{matrix}\\left(4 x_{1}^{2} + 4 x_{1} x_{2} + 16 x_{1} + 2 x_{2}^{2} + 10 x_{2} + 9\\right) e^{x_{1}} & \\left(4 x_{1} + 4 x_{2} + 6\\right) e^{x_{1}}\\\\\\left(4 x_{1} + 4 x_{2} + 6\\right) e^{x_{1}} & 4 e^{x_{1}}\\end{matrix}\\right]\n"
     ]
    },
    {
     "data": {
      "text/latex": [
       "$\\displaystyle \\left[\\begin{matrix}\\left(4 x_{1}^{2} + 4 x_{1} x_{2} + 16 x_{1} + 2 x_{2}^{2} + 10 x_{2} + 9\\right) e^{x_{1}} & \\left(4 x_{1} + 4 x_{2} + 6\\right) e^{x_{1}}\\\\\\left(4 x_{1} + 4 x_{2} + 6\\right) e^{x_{1}} & 4 e^{x_{1}}\\end{matrix}\\right]$"
      ],
      "text/plain": [
       "⎡⎛    2                         2            ⎞  x₁                     x₁⎤\n",
       "⎢⎝4⋅x₁  + 4⋅x₁⋅x₂ + 16⋅x₁ + 2⋅x₂  + 10⋅x₂ + 9⎠⋅ℯ    (4⋅x₁ + 4⋅x₂ + 6)⋅ℯ  ⎥\n",
       "⎢                                                                        ⎥\n",
       "⎢                                 x₁                           x₁        ⎥\n",
       "⎣              (4⋅x₁ + 4⋅x₂ + 6)⋅ℯ                          4⋅ℯ          ⎦"
      ]
     },
     "execution_count": 28,
     "metadata": {},
     "output_type": "execute_result"
    }
   ],
   "source": [
    "H = simplify(J.jacobian(x))\n",
    "print(latex(H))\n",
    "H"
   ]
  },
  {
   "cell_type": "code",
   "execution_count": 113,
   "metadata": {},
   "outputs": [
    {
     "ename": "CoercionFailed",
     "evalue": "expected real number, got 2*x2**2 + 10*x2 + 9",
     "output_type": "error",
     "traceback": [
      "\u001b[0;31m---------------------------------------------------------------------------\u001b[0m",
      "\u001b[0;31mCoercionFailed\u001b[0m                            Traceback (most recent call last)",
      "Cell \u001b[0;32mIn[113], line 3\u001b[0m\n\u001b[1;32m      1\u001b[0m p \u001b[38;5;241m=\u001b[39m H[\u001b[38;5;241m0\u001b[39m,\u001b[38;5;241m0\u001b[39m]\u001b[38;5;241m*\u001b[39mexp(\u001b[38;5;241m-\u001b[39mx1)\n\u001b[1;32m      2\u001b[0m p\n\u001b[0;32m----> 3\u001b[0m solve_poly_inequality(\u001b[43mPoly\u001b[49m\u001b[43m(\u001b[49m\u001b[43mp\u001b[49m\u001b[43m,\u001b[49m\u001b[43m \u001b[49m\u001b[43mx1\u001b[49m\u001b[43m,\u001b[49m\u001b[43m \u001b[49m\u001b[43mdomain\u001b[49m\u001b[38;5;241;43m=\u001b[39;49m\u001b[38;5;124;43m'\u001b[39;49m\u001b[38;5;124;43mR\u001b[39;49m\u001b[38;5;124;43m'\u001b[39;49m\u001b[43m)\u001b[49m, \u001b[38;5;124m'\u001b[39m\u001b[38;5;124m>=\u001b[39m\u001b[38;5;124m'\u001b[39m)\n",
      "File \u001b[0;32m~/Documents/MIRI/TOML/ConvexProgramming/conv/lib/python3.10/site-packages/sympy/polys/polytools.py:182\u001b[0m, in \u001b[0;36mPoly.__new__\u001b[0;34m(cls, rep, *gens, **args)\u001b[0m\n\u001b[1;32m    180\u001b[0m     \u001b[38;5;28;01mreturn\u001b[39;00m \u001b[38;5;28mcls\u001b[39m\u001b[38;5;241m.\u001b[39m_from_poly(rep, opt)\n\u001b[1;32m    181\u001b[0m \u001b[38;5;28;01melse\u001b[39;00m:\n\u001b[0;32m--> 182\u001b[0m     \u001b[38;5;28;01mreturn\u001b[39;00m \u001b[38;5;28;43mcls\u001b[39;49m\u001b[38;5;241;43m.\u001b[39;49m\u001b[43m_from_expr\u001b[49m\u001b[43m(\u001b[49m\u001b[43mrep\u001b[49m\u001b[43m,\u001b[49m\u001b[43m \u001b[49m\u001b[43mopt\u001b[49m\u001b[43m)\u001b[49m\n",
      "File \u001b[0;32m~/Documents/MIRI/TOML/ConvexProgramming/conv/lib/python3.10/site-packages/sympy/polys/polytools.py:312\u001b[0m, in \u001b[0;36mPoly._from_expr\u001b[0;34m(cls, rep, opt)\u001b[0m\n\u001b[1;32m    310\u001b[0m \u001b[38;5;250m\u001b[39m\u001b[38;5;124;03m\"\"\"Construct a polynomial from an expression. \"\"\"\u001b[39;00m\n\u001b[1;32m    311\u001b[0m rep, opt \u001b[38;5;241m=\u001b[39m _dict_from_expr(rep, opt)\n\u001b[0;32m--> 312\u001b[0m \u001b[38;5;28;01mreturn\u001b[39;00m \u001b[38;5;28;43mcls\u001b[39;49m\u001b[38;5;241;43m.\u001b[39;49m\u001b[43m_from_dict\u001b[49m\u001b[43m(\u001b[49m\u001b[43mrep\u001b[49m\u001b[43m,\u001b[49m\u001b[43m \u001b[49m\u001b[43mopt\u001b[49m\u001b[43m)\u001b[49m\n",
      "File \u001b[0;32m~/Documents/MIRI/TOML/ConvexProgramming/conv/lib/python3.10/site-packages/sympy/polys/polytools.py:259\u001b[0m, in \u001b[0;36mPoly._from_dict\u001b[0;34m(cls, rep, opt)\u001b[0m\n\u001b[1;32m    257\u001b[0m \u001b[38;5;28;01melse\u001b[39;00m:\n\u001b[1;32m    258\u001b[0m     \u001b[38;5;28;01mfor\u001b[39;00m monom, coeff \u001b[38;5;129;01min\u001b[39;00m rep\u001b[38;5;241m.\u001b[39mitems():\n\u001b[0;32m--> 259\u001b[0m         rep[monom] \u001b[38;5;241m=\u001b[39m \u001b[43mdomain\u001b[49m\u001b[38;5;241;43m.\u001b[39;49m\u001b[43mconvert\u001b[49m\u001b[43m(\u001b[49m\u001b[43mcoeff\u001b[49m\u001b[43m)\u001b[49m\n\u001b[1;32m    261\u001b[0m \u001b[38;5;28;01mreturn\u001b[39;00m \u001b[38;5;28mcls\u001b[39m\u001b[38;5;241m.\u001b[39mnew(DMP\u001b[38;5;241m.\u001b[39mfrom_dict(rep, level, domain), \u001b[38;5;241m*\u001b[39mgens)\n",
      "File \u001b[0;32m~/Documents/MIRI/TOML/ConvexProgramming/conv/lib/python3.10/site-packages/sympy/polys/domains/domain.py:451\u001b[0m, in \u001b[0;36mDomain.convert\u001b[0;34m(self, element, base)\u001b[0m\n\u001b[1;32m    449\u001b[0m \u001b[38;5;28;01mif\u001b[39;00m \u001b[38;5;28misinstance\u001b[39m(element, Basic):\n\u001b[1;32m    450\u001b[0m     \u001b[38;5;28;01mtry\u001b[39;00m:\n\u001b[0;32m--> 451\u001b[0m         \u001b[38;5;28;01mreturn\u001b[39;00m \u001b[38;5;28;43mself\u001b[39;49m\u001b[38;5;241;43m.\u001b[39;49m\u001b[43mfrom_sympy\u001b[49m\u001b[43m(\u001b[49m\u001b[43melement\u001b[49m\u001b[43m)\u001b[49m\n\u001b[1;32m    452\u001b[0m     \u001b[38;5;28;01mexcept\u001b[39;00m (\u001b[38;5;167;01mTypeError\u001b[39;00m, \u001b[38;5;167;01mValueError\u001b[39;00m):\n\u001b[1;32m    453\u001b[0m         \u001b[38;5;28;01mpass\u001b[39;00m\n",
      "File \u001b[0;32m~/Documents/MIRI/TOML/ConvexProgramming/conv/lib/python3.10/site-packages/sympy/polys/domains/realfield.py:73\u001b[0m, in \u001b[0;36mRealField.from_sympy\u001b[0;34m(self, expr)\u001b[0m\n\u001b[1;32m     71\u001b[0m     \u001b[38;5;28;01mreturn\u001b[39;00m \u001b[38;5;28mself\u001b[39m\u001b[38;5;241m.\u001b[39mdtype(number)\n\u001b[1;32m     72\u001b[0m \u001b[38;5;28;01melse\u001b[39;00m:\n\u001b[0;32m---> 73\u001b[0m     \u001b[38;5;28;01mraise\u001b[39;00m CoercionFailed(\u001b[38;5;124m\"\u001b[39m\u001b[38;5;124mexpected real number, got \u001b[39m\u001b[38;5;132;01m%s\u001b[39;00m\u001b[38;5;124m\"\u001b[39m \u001b[38;5;241m%\u001b[39m expr)\n",
      "\u001b[0;31mCoercionFailed\u001b[0m: expected real number, got 2*x2**2 + 10*x2 + 9"
     ]
    }
   ],
   "source": [
    "p = H[0,0]*exp(-x1)\n",
    "p\n",
    "solve_poly_inequality(Poly(p, x1, domain='R'), '>=')"
   ]
  },
  {
   "cell_type": "code",
   "execution_count": 127,
   "metadata": {},
   "outputs": [
    {
     "data": {
      "text/latex": [
       "$\\displaystyle \\left[\\begin{matrix}0 & -1\\\\-1 & 0\\end{matrix}\\right]$"
      ],
      "text/plain": [
       "⎡0   -1⎤\n",
       "⎢      ⎥\n",
       "⎣-1  0 ⎦"
      ]
     },
     "execution_count": 127,
     "metadata": {},
     "output_type": "execute_result"
    }
   ],
   "source": [
    "f2 = -1*x1*x2 - 10\n",
    "J = Matrix([f2]).jacobian(x).T\n",
    "H = J.jacobian(x)   \n",
    "H"
   ]
  }
 ],
 "metadata": {
  "kernelspec": {
   "display_name": "conv",
   "language": "python",
   "name": "python3"
  },
  "language_info": {
   "codemirror_mode": {
    "name": "ipython",
    "version": 3
   },
   "file_extension": ".py",
   "mimetype": "text/x-python",
   "name": "python",
   "nbconvert_exporter": "python",
   "pygments_lexer": "ipython3",
   "version": "3.10.12"
  }
 },
 "nbformat": 4,
 "nbformat_minor": 2
}
