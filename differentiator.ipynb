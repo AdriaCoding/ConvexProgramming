{
 "cells": [
  {
   "cell_type": "code",
   "execution_count": 11,
   "metadata": {},
   "outputs": [
    {
     "name": "stdout",
     "output_type": "stream",
     "text": [
      "Matrix([[8.02977626956175e-10], [-2.22711426658396e-11]])\n",
      "Matrix([[-360.000000000000], [-238.000000000000]])\n"
     ]
    }
   ],
   "source": [
    "from sympy import *\n",
    "\n",
    "x1, x2 = symbols('x1 y2')\n",
    "x = [x1, x2]\n",
    "xv = Matrix(x)\n",
    "init_printing(use_latex=true)\n",
    "f0 = exp(x1)*(4 * x1*x1 + 2 * x2*x2 + 4 * x1 * x2 + 2 * x2 + 1)\n",
    "J = Matrix([simplify(diff(f0, xi)) for xi in x])\n",
    "#print(latex(J))\n",
    "print(J.evalf(subs={x1:-30, x2:-30}))\n",
    "p = (4 * x1*x1 + 2 * x2*x2 + 4 * x1 * x2 + 2 * x2 + 1)\n",
    "polyJ = Matrix([simplify(diff(p, xi)) for xi in x])\n",
    "print(polyJ.evalf(subs={x1:-30, x2:-30}))\n",
    "\n"
   ]
  },
  {
   "cell_type": "code",
   "execution_count": 28,
   "metadata": {},
   "outputs": [
    {
     "name": "stdout",
     "output_type": "stream",
     "text": [
      "\\left[\\begin{matrix}\\left(4 x_{1}^{2} + 4 x_{1} x_{2} + 16 x_{1} + 2 x_{2}^{2} + 10 x_{2} + 9\\right) e^{x_{1}} & \\left(4 x_{1} + 4 x_{2} + 6\\right) e^{x_{1}}\\\\\\left(4 x_{1} + 4 x_{2} + 6\\right) e^{x_{1}} & 4 e^{x_{1}}\\end{matrix}\\right]\n"
     ]
    },
    {
     "data": {
      "text/latex": [
       "$\\displaystyle \\left[\\begin{matrix}\\left(4 x_{1}^{2} + 4 x_{1} x_{2} + 16 x_{1} + 2 x_{2}^{2} + 10 x_{2} + 9\\right) e^{x_{1}} & \\left(4 x_{1} + 4 x_{2} + 6\\right) e^{x_{1}}\\\\\\left(4 x_{1} + 4 x_{2} + 6\\right) e^{x_{1}} & 4 e^{x_{1}}\\end{matrix}\\right]$"
      ],
      "text/plain": [
       "⎡⎛    2                         2            ⎞  x₁                     x₁⎤\n",
       "⎢⎝4⋅x₁  + 4⋅x₁⋅x₂ + 16⋅x₁ + 2⋅x₂  + 10⋅x₂ + 9⎠⋅ℯ    (4⋅x₁ + 4⋅x₂ + 6)⋅ℯ  ⎥\n",
       "⎢                                                                        ⎥\n",
       "⎢                                 x₁                           x₁        ⎥\n",
       "⎣              (4⋅x₁ + 4⋅x₂ + 6)⋅ℯ                          4⋅ℯ          ⎦"
      ]
     },
     "execution_count": 28,
     "metadata": {},
     "output_type": "execute_result"
    }
   ],
   "source": [
    "H = simplify(J.jacobian(x))\n",
    "print(latex(H))\n",
    "H"
   ]
  },
  {
   "cell_type": "code",
   "execution_count": 2,
   "metadata": {},
   "outputs": [],
   "source": [
    "p0 = 4 * x1*x1 + 2 * x2*x2 + 4 * x1 * x2 + 2 * x2 + 1\n"
   ]
  },
  {
   "cell_type": "code",
   "execution_count": 127,
   "metadata": {},
   "outputs": [
    {
     "data": {
      "text/latex": [
       "$\\displaystyle \\left[\\begin{matrix}0 & -1\\\\-1 & 0\\end{matrix}\\right]$"
      ],
      "text/plain": [
       "⎡0   -1⎤\n",
       "⎢      ⎥\n",
       "⎣-1  0 ⎦"
      ]
     },
     "execution_count": 127,
     "metadata": {},
     "output_type": "execute_result"
    }
   ],
   "source": [
    "f2 = -1*x1*x2 - 10\n",
    "J = Matrix([f2]).jacobian(x).T\n",
    "H = J.jacobian(x)   \n",
    "H"
   ]
  },
  {
   "cell_type": "code",
   "execution_count": 8,
   "metadata": {},
   "outputs": [
    {
     "name": "stdout",
     "output_type": "stream",
     "text": [
      "\\left\\{ - \\frac{1}{\\left(- \\frac{1}{2} - \\frac{\\sqrt{3} i}{2}\\right) \\sqrt[3]{\\frac{27}{16} + \\frac{3 \\sqrt{687} i}{16}}} - \\frac{\\left(- \\frac{1}{2} - \\frac{\\sqrt{3} i}{2}\\right) \\sqrt[3]{\\frac{27}{16} + \\frac{3 \\sqrt{687} i}{16}}}{3} : 1, \\  - \\frac{\\left(- \\frac{1}{2} + \\frac{\\sqrt{3} i}{2}\\right) \\sqrt[3]{\\frac{27}{16} + \\frac{3 \\sqrt{687} i}{16}}}{3} - \\frac{1}{\\left(- \\frac{1}{2} + \\frac{\\sqrt{3} i}{2}\\right) \\sqrt[3]{\\frac{27}{16} + \\frac{3 \\sqrt{687} i}{16}}} : 1, \\  - \\frac{\\sqrt[3]{\\frac{27}{16} + \\frac{3 \\sqrt{687} i}{16}}}{3} - \\frac{1}{\\sqrt[3]{\\frac{27}{16} + \\frac{3 \\sqrt{687} i}{16}}} : 1\\right\\}\n"
     ]
    }
   ],
   "source": [
    "from sympy import *\n",
    "x = symbols('x')\n",
    "df = 8*x*x*x - 8*x + 1\n",
    "print(latex(roots(df)))"
   ]
  }
 ],
 "metadata": {
  "kernelspec": {
   "display_name": "conv",
   "language": "python",
   "name": "python3"
  },
  "language_info": {
   "codemirror_mode": {
    "name": "ipython",
    "version": 3
   },
   "file_extension": ".py",
   "mimetype": "text/x-python",
   "name": "python",
   "nbconvert_exporter": "python",
   "pygments_lexer": "ipython3",
   "version": "3.10.12"
  }
 },
 "nbformat": 4,
 "nbformat_minor": 2
}
