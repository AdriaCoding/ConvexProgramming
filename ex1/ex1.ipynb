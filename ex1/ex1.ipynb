{
 "cells": [
  {
   "cell_type": "code",
   "execution_count": 24,
   "metadata": {},
   "outputs": [
    {
     "name": "stdout",
     "output_type": "stream",
     "text": [
      "[(4*x1**2 + 4*x1*x2 + 8*x1 + 2*x2**2 + 6*x2 + 1)*exp(x1), (4*x1 + 4*x2 + 2)*exp(x1)]\n"
     ]
    }
   ],
   "source": [
    "from sympy import *\n",
    "import numpy as np\n",
    "\n",
    "x1, x2 = symbols('x1 x2')\n",
    "x = [x1, x2]\n",
    "xv = Matrix(x)\n",
    "init_printing(use_latex=true)\n",
    "f_sym = exp(x1)*(4 * x1*x1 + 2 * x2*x2 + 4 * x1 * x2 + 2 * x2 + 1)\n",
    "print([simplify(diff(f_sym, xi)) for xi in x])"
   ]
  },
  {
   "cell_type": "code",
   "execution_count": 22,
   "metadata": {},
   "outputs": [
    {
     "name": "stdout",
     "output_type": "stream",
     "text": [
      "-1.5 10\n",
      "-171.5 210\n",
      "-0.5 0\n",
      "-961.5 910\n"
     ]
    },
    {
     "data": {
      "text/plain": [
       "[None, None, None, None]"
      ]
     },
     "execution_count": 22,
     "metadata": {},
     "output_type": "execute_result"
    }
   ],
   "source": [
    "import scipy.optimize as opt\n",
    "import numpy as np\n",
    "\n",
    "def f0(x):\n",
    "    return np.exp(x[0])*(4 * x[0]*x[0] + 2 * x[1]*x[1] + 4 * x[0] * x[1] + 2 * x[1] + 1)\n",
    "\n",
    "def jac(x):\n",
    "    return [(4*x[0]**2 + 4*x[0]*x[1] + 8*x[0] + 2*x[1]**2 + 6*x[1] + 1)*np.exp(x[0]), \n",
    "            (4*x[0] + 4*x[1] + 2)*np.exp(x[0])]\n",
    "\n",
    "f1 = lambda x: -1.5 - x[0]*x[1] + x[0] + x[1]\n",
    "f2 = lambda x: 10 + x[0]*x[1]\n",
    "\n",
    "cons = (\n",
    "    {'type': 'ineq', 'fun': f1},\n",
    "    {'type': 'ineq', 'fun': f2}\n",
    ")\n",
    "\n",
    "init = [[0,0], [10, 20], [-10, 1], [-30, -30]]\n",
    "[print(f1(x_0), f2(x_0)) for x_0 in init]\n"
   ]
  },
  {
   "cell_type": "code",
   "execution_count": 210,
   "metadata": {},
   "outputs": [
    {
     "name": "stdout",
     "output_type": "stream",
     "text": [
      "1.85644293243494 2 2 2\n",
      "4.93427882940048e-7 10 13 10\n",
      "1.04786530848116e-6 18 18 18\n",
      "7.57598314071310e-7 24 25 24\n",
      "[array([0., 0.]), array([3.53280548e-06, 4.53386243e-13]), array([5.84828364e-08, 1.40207532e-07]), array([4.86775029e-08, 2.45741038e-06])]\n",
      "[0, 3.21326091981459e-6, 5.93258651330092e-8, 6.67654208106998e-8]\n"
     ]
    }
   ],
   "source": [
    "constrained_jacsols = [opt.minimize(f0, x_0, method='SLSQP',bounds=bnds, constraints=cons, jac=jac) for x_0 in init]\n",
    "[print(s.fun, s.nit, s.nfev, s.njev) for s in constrained_jacsols]\n",
    "fun_abs_err = [abs(constrained_jacsols[i].fun - constrained_sols[i].fun) for i in range(4)]\n",
    "fun_rel_err = [abs(constrained_jacsols[i].fun - constrained_sols[i].fun)/constrained_jacsols[i].fun for i in range(4)]\n",
    "print(fun_abs_err)\n",
    "print(fun_rel_err)"
   ]
  },
  {
   "cell_type": "code",
   "execution_count": 216,
   "metadata": {},
   "outputs": [
    {
     "name": "stdout",
     "output_type": "stream",
     "text": [
      "[0.0, 3.532805475714469e-06, 1.5191574668860486e-07, 2.457892447630438e-06]\n",
      "[0.0, 1.598566408243062e-07, 7.150026142225081e-09, 1.137745666176057e-07]\n"
     ]
    }
   ],
   "source": [
    "x_abs_err = [np.linalg.norm(constrained_jacsols[i].x - constrained_sols[i].x) for i in range(4)]\n",
    "x_rel_err = [x_abs_err[i]/np.linalg.norm(constrained_jacsols[i].x) for i in range(4)]\n",
    "print(x_abs_err)\n",
    "print(x_rel_err)"
   ]
  }
 ],
 "metadata": {
  "kernelspec": {
   "display_name": "conv",
   "language": "python",
   "name": "python3"
  },
  "language_info": {
   "codemirror_mode": {
    "name": "ipython",
    "version": 3
   },
   "file_extension": ".py",
   "mimetype": "text/x-python",
   "name": "python",
   "nbconvert_exporter": "python",
   "pygments_lexer": "ipython3",
   "version": "3.10.12"
  }
 },
 "nbformat": 4,
 "nbformat_minor": 2
}
