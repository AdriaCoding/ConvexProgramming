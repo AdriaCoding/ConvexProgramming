{
 "cells": [
  {
   "cell_type": "markdown",
   "metadata": {},
   "source": [
    "# Exercise 6\n",
    "### Gradient descent"
   ]
  },
  {
   "cell_type": "code",
   "execution_count": 4,
   "metadata": {},
   "outputs": [],
   "source": [
    "import numpy as np\n",
    "\n",
    "f0 = lambda x: 2*x**2 - 0.5\n",
    "df0 = lambda x: 4*x\n",
    "f1 = lambda x: 2*x**4 - 4*x**2  + x - 0.5\n",
    "df1 = lambda x: 8*x**3 - 8*x + 1\n",
    "\n",
    "init0 = [3]\n",
    "init1 = [-2, -0.5, 0.5, 2]\n",
    "\n",
    "stop_criterion = 1e-4"
   ]
  },
  {
   "cell_type": "code",
   "execution_count": 5,
   "metadata": {},
   "outputs": [],
   "source": [
    "def GradDescent (x_0, df, stepsize, stop_criterion=1e-4):\n",
    "    x = x_0\n",
    "    steps = 0\n",
    "    while(abs(df(x)) > stop_criterion):\n",
    "        x = x - stepsize * df(x)\n",
    "        steps = steps + 1\n",
    "    return x, steps"
   ]
  },
  {
   "cell_type": "markdown",
   "metadata": {},
   "source": [
    "## (a) Solve the first exercise"
   ]
  },
  {
   "cell_type": "code",
   "execution_count": 6,
   "metadata": {},
   "outputs": [
    {
     "name": "stdout",
     "output_type": "stream",
     "text": [
      "(2.3691906691608062e-05, 23)\n"
     ]
    }
   ],
   "source": [
    "sol0GD = GradDescent(init0[0], df0, 0.1, stop_criterion=stop_criterion)\n",
    "print(sol0GD) # x = error, since x* = 0"
   ]
  },
  {
   "cell_type": "markdown",
   "metadata": {},
   "source": [
    "## (b) Solve the second exercise"
   ]
  },
  {
   "cell_type": "code",
   "execution_count": 94,
   "metadata": {},
   "outputs": [
    {
     "data": {
      "text/plain": [
       "[(-1.0574585576411142, 53),\n",
       " (-1.0574487779240707, 62),\n",
       " (0.9303959331935515, 90),\n",
       " (0.9304105015183995, 77)]"
      ]
     },
     "execution_count": 94,
     "metadata": {},
     "output_type": "execute_result"
    }
   ],
   "source": [
    "solsGD = [GradDescent(x_0=x_0, df=df1, stepsize=0.01, stop_criterion=stop_criterion) for x_0 in init1]\n",
    "solsGD"
   ]
  },
  {
   "cell_type": "markdown",
   "metadata": {},
   "source": [
    "## (c) Use Newton's Method"
   ]
  },
  {
   "cell_type": "code",
   "execution_count": 95,
   "metadata": {},
   "outputs": [
    {
     "name": "stdout",
     "output_type": "stream",
     "text": [
      "(0.5,       converged: True\n",
      "           flag: converged\n",
      " function_calls: 14\n",
      "     iterations: 7\n",
      "           root: 0.5)\n"
     ]
    }
   ],
   "source": [
    "ddf0 = lambda x: 4\n",
    "ddf1 = lambda x: 24*x**2 - 8\n",
    "\n",
    "from scipy.optimize import newton\n",
    "\n",
    "sol0NM = newton(f0, init0[0], df0, full_output=True)\n",
    "print(sol0NM)\n"
   ]
  },
  {
   "cell_type": "code",
   "execution_count": 97,
   "metadata": {},
   "outputs": [
    {
     "name": "stdout",
     "output_type": "stream",
     "text": [
      "(-0.5,       converged: True\n",
      "           flag: converged\n",
      " function_calls: 14\n",
      "     iterations: 7\n",
      "           root: -0.5)\n",
      "(-0.5,       converged: True\n",
      "           flag: converged\n",
      " function_calls: 1\n",
      "     iterations: 0\n",
      "           root: -0.5)\n",
      "(0.5,       converged: True\n",
      "           flag: converged\n",
      " function_calls: 1\n",
      "     iterations: 0\n",
      "           root: 0.5)\n",
      "(0.5,       converged: True\n",
      "           flag: converged\n",
      " function_calls: 14\n",
      "     iterations: 7\n",
      "           root: 0.5)\n"
     ]
    }
   ],
   "source": [
    "solsNM = [newton(f0, x_0, df0, full_output=True) for x_0 in init1]\n",
    "for s in solsNM:\n",
    "    print(s)"
   ]
  }
 ],
 "metadata": {
  "kernelspec": {
   "display_name": "conv",
   "language": "python",
   "name": "python3"
  },
  "language_info": {
   "codemirror_mode": {
    "name": "ipython",
    "version": 3
   },
   "file_extension": ".py",
   "mimetype": "text/x-python",
   "name": "python",
   "nbconvert_exporter": "python",
   "pygments_lexer": "ipython3",
   "version": "3.10.12"
  }
 },
 "nbformat": 4,
 "nbformat_minor": 2
}
