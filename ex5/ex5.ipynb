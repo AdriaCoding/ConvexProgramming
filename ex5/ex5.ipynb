{
 "cells": [
  {
   "cell_type": "markdown",
   "metadata": {},
   "source": [
    "# Exercise 5\n",
    "\n",
    "### A problem where CVX fails?"
   ]
  },
  {
   "cell_type": "markdown",
   "metadata": {},
   "source": [
    "## Solution with CVX toolbox"
   ]
  },
  {
   "cell_type": "code",
   "execution_count": 28,
   "metadata": {},
   "outputs": [
    {
     "data": {
      "text/plain": [
       "inf"
      ]
     },
     "execution_count": 28,
     "metadata": {},
     "output_type": "execute_result"
    }
   ],
   "source": [
    "import cvxpy as cp \n",
    "\n",
    "x = cp.Variable(2)\n",
    "\n",
    "constraints = [(x[0]-1)**2 + (x[1]-1)**2 <= 1,\n",
    "               (x[0]+1)**2 + (x[1]+1)**2 <= 1]     \n",
    "\n",
    "obj = cp.Minimize(x[0]**2 + x[1]**2)\n",
    "x.value = [1,0]\n",
    "\n",
    "prob = cp.Problem(obj, constraints)\n",
    "prob.solve(solver='CLARABEL', warm_start=True)\n"
   ]
  },
  {
   "cell_type": "markdown",
   "metadata": {},
   "source": [
    "## Get info from the dual problem"
   ]
  },
  {
   "cell_type": "code",
   "execution_count": 23,
   "metadata": {},
   "outputs": [
    {
     "name": "stdout",
     "output_type": "stream",
     "text": [
      "optimal constraint 1 dual variable None\n",
      "optimal constraint 2 dual variable None\n",
      "[x1, x2] value: [1. 0.]\n"
     ]
    }
   ],
   "source": [
    "print(\"optimal constraint 1 dual variable\", constraints[0].dual_value)\n",
    "print(\"optimal constraint 2 dual variable\", constraints[1].dual_value)\n",
    "print(\"[x1, x2] value:\", x.value)"
   ]
  }
 ],
 "metadata": {
  "kernelspec": {
   "display_name": "conv",
   "language": "python",
   "name": "python3"
  },
  "language_info": {
   "codemirror_mode": {
    "name": "ipython",
    "version": 3
   },
   "file_extension": ".py",
   "mimetype": "text/x-python",
   "name": "python",
   "nbconvert_exporter": "python",
   "pygments_lexer": "ipython3",
   "version": "3.10.12"
  }
 },
 "nbformat": 4,
 "nbformat_minor": 2
}
